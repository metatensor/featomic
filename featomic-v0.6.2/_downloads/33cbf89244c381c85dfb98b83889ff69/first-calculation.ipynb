{
  "cells": [
    {
      "cell_type": "markdown",
      "metadata": {},
      "source": [
        "\n\n# First descriptor computation\n\nThis is an introduction to the featomic interface using a molecular crystals dataset\nusing the Python interface. If you are interested in another programming language we\nrecommend you first follow this tutorial and afterward take a look at the how-to guide\non `userdoc-how-to-computing-soap`.\n\n## The dataset\n\nThe atomic configurations used in our documentation are a small subset of the [ShiftML2\ndataset](https://pubs.acs.org/doi/pdf/10.1021/acs.jpcc.2c03854) containing molecular\ncrystals. There are four crystals - one with each of the elements ``[H, C]``, ``[H, C,\nN, O]``, ``[H, C, N]``, and ``[H, C, O]``. For each crystal, we have 10 structures: the\nfirst one is geometry-optimized. The following 9 contain atoms that are slightly\ndisplaced from the geometry-optimized one. You can obtain the dataset from our\n:download:`website <../../static/dataset.xyz>`.\n"
      ]
    },
    {
      "cell_type": "markdown",
      "metadata": {},
      "source": [
        "We will start by importing all the required packages: the classic numpy;\nchemfiles to load data, and featomic to compute representations. Afterward\nwe will load the dataset using chemfiles.\n\n"
      ]
    },
    {
      "cell_type": "code",
      "execution_count": null,
      "metadata": {
        "collapsed": false
      },
      "outputs": [],
      "source": [
        "import chemfiles\nimport numpy as np\n\nfrom featomic import SphericalExpansion\n\n\nwith chemfiles.Trajectory(\"dataset.xyz\") as trajectory:\n    structures = [s for s in trajectory]\n\nprint(f\"The dataset contains {len(structures)} structures.\")"
      ]
    },
    {
      "cell_type": "markdown",
      "metadata": {},
      "source": [
        "We will not explain here how to use chemfiles in detail, as we only use a few\nfunctions. Briefly, :class:`chemfiles.Trajectory` loads structure data in a format\nfeatomic can use. If you want to learn more about the possibilities take a look at the\n[chemfiles documentation](https://chemfiles.org).\n\nLet us now take a look at the first structure of the dataset.\n\n"
      ]
    },
    {
      "cell_type": "code",
      "execution_count": null,
      "metadata": {
        "collapsed": false
      },
      "outputs": [],
      "source": [
        "structure_0 = structures[0]\n\nprint(structure_0)"
      ]
    },
    {
      "cell_type": "markdown",
      "metadata": {},
      "source": [
        "With ``structure_0.atoms`` we get a list of the atoms that make up the first\nstructure. The ``name`` attribute gives us the name of the specified atom.\n\n"
      ]
    },
    {
      "cell_type": "code",
      "execution_count": null,
      "metadata": {
        "collapsed": false
      },
      "outputs": [],
      "source": [
        "elements, counts = np.unique(\n    [atom.name for atom in structure_0.atoms], return_counts=True\n)\n\nprint(\n    f\"The first structure contains \"\n    f\"{counts[0]} {elements[0]}-atoms, \"\n    f\"{counts[1]} {elements[1]}-atoms, \"\n    f\"{counts[2]} {elements[2]}-atoms and \"\n    f\"{counts[3]} {elements[3]}-atoms.\"\n)"
      ]
    },
    {
      "cell_type": "markdown",
      "metadata": {},
      "source": [
        "## Calculate a descriptor\n\nWe will now calculate an atomic descriptor for this structure using the SOAP spherical\nexpansion as introduced by [Bart\u00f3k, Kondor, and Cs\u00e1nyi](http://dx.doi.org/10.1103/PhysRevB.87.184115).\n\nTo do so we define below a set of parameters telling featomic how the spherical\nexpansion should be calculated. These parameters are also called hyper parameters\nsince they are parameters of the representation, in opposition to parameters of\nmachine learning models. Hyper parameters are a crucial part of calculating\ndescriptors. Poorly selected hyper parameters will lead to a poor description of your\ndataset as discussed in the [literature](https://arxiv.org/abs/1502.02127).\n\n"
      ]
    },
    {
      "cell_type": "code",
      "execution_count": null,
      "metadata": {
        "collapsed": false
      },
      "outputs": [],
      "source": [
        "cutoff = {\n    \"radius\": 4.5,\n    \"smoothing\": {\"type\": \"ShiftedCosine\", \"width\": 0.5},\n}\n\ndensity = {\n    \"type\": \"Gaussian\",\n    \"width\": 0.3,\n    \"radial_scaling\": {\n        \"type\": \"Willatt2018\",\n        \"scale\": 2.0,\n        \"rate\": 1.0,\n        \"exponent\": 4,\n    },\n}\n\nbasis = {\n    \"type\": \"TensorProduct\",\n    \"max_angular\": 5,\n    \"radial\": {\"type\": \"Gto\", \"max_radial\": 8},\n}"
      ]
    },
    {
      "cell_type": "markdown",
      "metadata": {},
      "source": [
        "After we set the hyper parameters we initialize a\n:class:`featomic.calculators.SphericalExpansion` object with hyper parameters defined\nabove and run the :py:func:`featomic.calculators.CalculatorBase.compute()` method.\n\n"
      ]
    },
    {
      "cell_type": "code",
      "execution_count": null,
      "metadata": {
        "collapsed": false
      },
      "outputs": [],
      "source": [
        "calculator = SphericalExpansion(cutoff=cutoff, density=density, basis=basis)\ndescriptor_0 = calculator.compute(structure_0)\nprint(type(descriptor_0))"
      ]
    },
    {
      "cell_type": "markdown",
      "metadata": {},
      "source": [
        "The descriptor format is a :class:`metatensor.TensorMap` object. Metatensor is like\nnumpy for storing representations of atomistic ML data. Extensive details on the\nmetatensor are covered in the [corresponding documentation](https://docs.metatensor.org).\n\nWe will now have a look at how the data is stored inside :class:`metatensor.TensorMap`\nobjects.\n\n"
      ]
    },
    {
      "cell_type": "code",
      "execution_count": null,
      "metadata": {
        "collapsed": false
      },
      "outputs": [],
      "source": [
        "print(descriptor_0)"
      ]
    },
    {
      "cell_type": "markdown",
      "metadata": {},
      "source": [
        "The :class:`metatensor.TensorMap` contains multiple :class:`metatensor.TensorBlock`.\nTo distinguish them each block is associated with a unique key. For this example, we\nhave one block for each angular channel labeled by ``o3_lambda`` (``o3_sigma`` is\nalways equal to 1 since we only consider proper tensors, not pseudo-tensors), the\ncentral atom type ``center_type`` and neighbor atom type labeled by ``neighbor_type``.\nDifferent atomic types are represented using their atomic number, e.g. 1 for hydrogen,\n6 for carbon, etc. To summarize, this descriptor contains 96 blocks covering all\ncombinations of the angular channels, central atom type, and neighbor atom types in\nour dataset.\n\nLet us take a look at the second block (at index 1) in detail. This block contains the\ndescriptor for the $\\lambda = 1$ angular channel for hydrogen-hydrogen pairs.\n\n"
      ]
    },
    {
      "cell_type": "code",
      "execution_count": null,
      "metadata": {
        "collapsed": false
      },
      "outputs": [],
      "source": [
        "block = descriptor_0.block(1)\nprint(descriptor_0.keys[1])"
      ]
    },
    {
      "cell_type": "markdown",
      "metadata": {},
      "source": [
        "## Metadata about the descriptor\n\nThe values of the representation are inside the blocks, in the ``block.values`` array.\nEach entry in this array is described by metadata carried by the block. For the\nspherical expansion calculator used in this tutorial the values have three dimensions\nwhich we can verify from the ``.shape`` attribute.\n\n"
      ]
    },
    {
      "cell_type": "code",
      "execution_count": null,
      "metadata": {
        "collapsed": false
      },
      "outputs": [],
      "source": [
        "print(block.values.shape)"
      ]
    },
    {
      "cell_type": "markdown",
      "metadata": {},
      "source": [
        "The first dimension is described by the ``block.samples``, the intermediate dimension\nby ``block.components``, and the last dimension by ``block.properties``. The sample\ndimension has a length of eight because we have eight hydrogen atoms in the first\nstructure. We can reveal more detailed metadata information about the sample dimension\nprinting of the :py:attr:`metatensor.TensorBlock.samples` attribute of the block\n\n"
      ]
    },
    {
      "cell_type": "code",
      "execution_count": null,
      "metadata": {
        "collapsed": false
      },
      "outputs": [],
      "source": [
        "print(block.samples)"
      ]
    },
    {
      "cell_type": "markdown",
      "metadata": {},
      "source": [
        "In these labels, the first column indicates the **structure**, which is 0 for all\nbecause we only computed the representation of a single structure. The second entry of\neach tuple refers to the index of the central **atom**.\n\nWe can do a similar investigation for the second dimension of the value array,\ndescrbied by :py:attr:`metatensor.TensorBlock.components`.\n\n"
      ]
    },
    {
      "cell_type": "code",
      "execution_count": null,
      "metadata": {
        "collapsed": false
      },
      "outputs": [],
      "source": [
        "print(block.components)"
      ]
    },
    {
      "cell_type": "markdown",
      "metadata": {},
      "source": [
        "Here, the components are associated with the angular channels of the representation.\nThe size of ``o3_mu`` is $2l + 1$, where $l$ is the current ``o3_lambda``\nof the block. Here, its dimension is three because we are looking at the\n``o3_lambda=1`` block. You may have noticed that the return value of the last call is\na :class:`list` of :class:`metatensor.Labels` and not a single ``Labels`` instance.\nThe reason is that a block can have several component dimensions as we will see below\nfor the gradients.\n\nThe last dimension represents the radial channels of spherical expansion. These are\ndescribed in the :py:attr:`metatensor.TensorBlock.properties`:\n\n"
      ]
    },
    {
      "cell_type": "code",
      "execution_count": null,
      "metadata": {
        "collapsed": false
      },
      "outputs": [],
      "source": [
        "print(block.properties)\n\n# There is only one column here, named **n**, and indicating which of the radial channel\n# we are looking at, from 0 to ``max_radial``."
      ]
    },
    {
      "cell_type": "markdown",
      "metadata": {},
      "source": [
        "## The descriptor values\n\nAfter looking at the metadata we can investigate the actual data of the\nrepresentation in more details\n\n"
      ]
    },
    {
      "cell_type": "code",
      "execution_count": null,
      "metadata": {
        "collapsed": false
      },
      "outputs": [],
      "source": [
        "print(block.values[0, 0, :])"
      ]
    },
    {
      "cell_type": "markdown",
      "metadata": {},
      "source": [
        "By using ``[0, 0, :]`` we selected the first hydrogen and the first ``m`` channel. As\nyou the output shows the values are floating point numbers, representing the\ncoefficients of the spherical expansion.\n\nFeatomic is also able to process more than one structure within one function call. You\ncan process a whole dataset with\n\n"
      ]
    },
    {
      "cell_type": "code",
      "execution_count": null,
      "metadata": {
        "collapsed": false
      },
      "outputs": [],
      "source": [
        "descriptor_full = calculator.compute(structures)\n\nblock_full = descriptor_full.block(0)\nprint(block_full.values.shape)"
      ]
    },
    {
      "cell_type": "markdown",
      "metadata": {},
      "source": [
        "Now, the 0th block of the :class:`metatensor.TensorMap` contains not eight but\n420 entries in the first dimensions. This reflects the fact that in total we\nhave 420 hydrogen atoms in the whole dataset.\n\nIf you want to use another calculator instead of\n:class:`featomic.calculators.SphericalExpansion` shown here check out the\n`userdoc-references` section.\n\n## Computing gradients\n\nAdditionally, featomic is also able to calculate gradients on top of the\nvalues. Gradients are useful for constructing an ML potential and running\nsimulations. For example ``gradients`` of the representation with respect to\natomic positions can be calculated by setting the ``gradients`` parameter of\nthe :py:func:`featomic.calculators.CalculatorBase.compute()` method to\n``[\"positions\"]``.\n\n"
      ]
    },
    {
      "cell_type": "code",
      "execution_count": null,
      "metadata": {
        "collapsed": false
      },
      "outputs": [],
      "source": [
        "descriptor = calculator.compute(structure_0, gradients=[\"positions\"])\n\nblock = descriptor.block(o3_lambda=1, center_type=1, neighbor_type=1)\ngradient = block.gradient(\"positions\")\n\nprint(gradient.values.shape)"
      ]
    },
    {
      "cell_type": "markdown",
      "metadata": {},
      "source": [
        "The calculated descriptor contains the values and in each block the associated\nposition gradients as another :class:`metatensor.TensorBlock`, containing both\ngradient data and associated metadata.\n\nCompared to the features where we found three dimensions, gradients have four. Again\nthe first is called ``samples`` and the ``properties``. The dimensions between the\nsample and property dimensions are denoted by ``components``.\n\nLooking at the shape in more detail we find that we have 52 samples, which is much\nmore compared to features where we only have eight samples. This arises from the fact\nthat we compute positions gradient for each samples in the features **with respect to\nthe position of other atoms**. Since we are looking at the block with ``neighbor_type\n= 1``, only hydrogen neighbors will contribute to these gradients.\n\nThe samples shows this in detail:\n\n"
      ]
    },
    {
      "cell_type": "code",
      "execution_count": null,
      "metadata": {
        "collapsed": false
      },
      "outputs": [],
      "source": [
        "print(gradient.samples.print(max_entries=10))"
      ]
    },
    {
      "cell_type": "markdown",
      "metadata": {},
      "source": [
        "Here, the **sample** column indicate which of the sample of the features we are taking\nthe gradients of; and (**system**,  **atom**) indicate which atom's positions we are\ntaking the gradient with respect to. For example, looking at the gradient sample at\nindex ``3``:\n\n"
      ]
    },
    {
      "cell_type": "code",
      "execution_count": null,
      "metadata": {
        "collapsed": false
      },
      "outputs": [],
      "source": [
        "print(\"taking the gradient of\", block.samples[gradient.samples[3][\"sample\"]])\nprint(\n    \"with respect to the position of system =\",\n    gradient.samples[3][\"system\"],\n    \"and atom =\",\n    gradient.samples[3][\"atom\"],\n)"
      ]
    },
    {
      "cell_type": "markdown",
      "metadata": {},
      "source": [
        "Now looking at the components:\n\n"
      ]
    },
    {
      "cell_type": "code",
      "execution_count": null,
      "metadata": {
        "collapsed": false
      },
      "outputs": [],
      "source": [
        "print(gradient.components)"
      ]
    },
    {
      "cell_type": "markdown",
      "metadata": {},
      "source": [
        "we find two of them. Besides the ``o3_mu`` component that is also present in the\nfeatures position gradients also have a component indicating the direction of the\ngradient vector.\n\nFinally, the properties are the same as the features\n\n"
      ]
    },
    {
      "cell_type": "code",
      "execution_count": null,
      "metadata": {
        "collapsed": false
      },
      "outputs": [],
      "source": [
        "print(gradient.properties)"
      ]
    },
    {
      "cell_type": "markdown",
      "metadata": {},
      "source": [
        "Featomic can also calculate gradients with respect to the strain (i.e. the virial).\nFor this, you have to add ``\"strain\"`` to the list parsed to the ``gradients``\nparameter of the :py:func:`featomic.calculators.CalculatorBase.compute()` method.\nStrain gradients/virial are useful when computing the stress and the pressure.\n\nIf you want to know about the effect of changing hypers take a look at the next\ntutorial. If you want to solve an explicit problem our `userdoc-how-to` might\nhelp you.\n\n"
      ]
    }
  ],
  "metadata": {
    "kernelspec": {
      "display_name": "Python 3",
      "language": "python",
      "name": "python3"
    },
    "language_info": {
      "codemirror_mode": {
        "name": "ipython",
        "version": 3
      },
      "file_extension": ".py",
      "mimetype": "text/x-python",
      "name": "python",
      "nbconvert_exporter": "python",
      "pygments_lexer": "ipython3",
      "version": "3.13.7"
    }
  },
  "nbformat": 4,
  "nbformat_minor": 0
}