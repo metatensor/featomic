{
  "cells": [
    {
      "cell_type": "markdown",
      "metadata": {},
      "source": [
        "\n# Computing per-pair equivariant features\n\n.. start-body\n"
      ]
    },
    {
      "cell_type": "code",
      "execution_count": null,
      "metadata": {
        "collapsed": false
      },
      "outputs": [],
      "source": [
        "import chemfiles\nfrom metatensor import Labels\n\nfrom featomic import SphericalExpansion, SphericalExpansionByPair\nfrom featomic.clebsch_gordan import EquivariantPowerSpectrumByPair"
      ]
    },
    {
      "cell_type": "markdown",
      "metadata": {},
      "source": [
        "Let's see how to compute the per-pair $\\lambda$-SOAP descriptor using Featomic.\n\nRead systems using Chemfiles. You can download the dataset for this example from our\n:download:`website <../../static/dataset.xyz>`.\n\n"
      ]
    },
    {
      "cell_type": "code",
      "execution_count": null,
      "metadata": {
        "collapsed": false
      },
      "outputs": [],
      "source": [
        "with chemfiles.Trajectory(\"dataset.xyz\") as trajectory:\n    systems = [s for s in trajectory]"
      ]
    },
    {
      "cell_type": "markdown",
      "metadata": {},
      "source": [
        "Featomic also handles systems read by [ASE](https://wiki.fysik.dtu.dk/ase/):\n\n``systems = ase.io.read(\"dataset.xyz\", \":\")``.\n\nNext, define the hyperparameters for the spherical expansion:\n\n"
      ]
    },
    {
      "cell_type": "code",
      "execution_count": null,
      "metadata": {
        "collapsed": false
      },
      "outputs": [],
      "source": [
        "HYPERPARAMETERS = {\n    \"cutoff\": {\n        \"radius\": 5.0,\n        \"smoothing\": {\"type\": \"ShiftedCosine\", \"width\": 0.5},\n    },\n    \"density\": {\n        \"type\": \"Gaussian\",\n        \"width\": 0.3,\n    },\n    \"basis\": {\n        \"type\": \"TensorProduct\",\n        \"max_angular\": 2,\n        \"radial\": {\"type\": \"Gto\", \"max_radial\": 2},\n    },\n}"
      ]
    },
    {
      "cell_type": "markdown",
      "metadata": {},
      "source": [
        "Create a spherical expansion and a spherical expansion by pair calculator.\nThe :class:`~featomic.SphericalExpansion` and\n:class:`~featomic.SphericalExpansionByPair` classes use the hyperparameters above.\nThen, wrap them with :class:`~featomic.clebsch_gordan.EquivariantPowerSpectrumByPair`\nto compute the Clebsch-Gordan contraction for the per-pair $\\lambda$-SOAP.\n\n"
      ]
    },
    {
      "cell_type": "code",
      "execution_count": null,
      "metadata": {
        "collapsed": false
      },
      "outputs": [],
      "source": [
        "spex_calculator = SphericalExpansion(**HYPERPARAMETERS)\nper_pair_spex_calculator = SphericalExpansionByPair(**HYPERPARAMETERS)\ncalculator = EquivariantPowerSpectrumByPair(spex_calculator, per_pair_spex_calculator)"
      ]
    },
    {
      "cell_type": "markdown",
      "metadata": {},
      "source": [
        "Run the actual calculation\n\n"
      ]
    },
    {
      "cell_type": "code",
      "execution_count": null,
      "metadata": {
        "collapsed": false
      },
      "outputs": [],
      "source": [
        "per_pair_power_spectrum = calculator.compute(systems, neighbors_to_properties=True)"
      ]
    },
    {
      "cell_type": "markdown",
      "metadata": {},
      "source": [
        "The result is a :class:`~metatensor.TensorMap` whose keys encode symmetry and the\nspecies of the atoms involved:\n\n"
      ]
    },
    {
      "cell_type": "code",
      "execution_count": null,
      "metadata": {
        "collapsed": false
      },
      "outputs": [],
      "source": [
        "per_pair_power_spectrum.keys"
      ]
    },
    {
      "cell_type": "markdown",
      "metadata": {},
      "source": [
        "Often, you only need specific $\\lambda$ values. For example, if the\n[target property is the Hamiltonian matrix on a minimal basis](https://tinyurl.com/ham-mat), you can restrict the output to $\\lambda$ values\nup to $\\lambda=2$ using the ``selected_keys`` parameter:\n\n"
      ]
    },
    {
      "cell_type": "code",
      "execution_count": null,
      "metadata": {
        "collapsed": false
      },
      "outputs": [],
      "source": [
        "per_pair_power_spectrum_minimal_basis = calculator.compute(\n    systems,\n    neighbors_to_properties=True,\n    selected_keys=Labels.range(\"o3_lambda\", 3),\n)\nper_pair_power_spectrum_minimal_basis.keys"
      ]
    },
    {
      "cell_type": "markdown",
      "metadata": {},
      "source": [
        ".. end-body\n\n"
      ]
    }
  ],
  "metadata": {
    "kernelspec": {
      "display_name": "Python 3",
      "language": "python",
      "name": "python3"
    },
    "language_info": {
      "codemirror_mode": {
        "name": "ipython",
        "version": 3
      },
      "file_extension": ".py",
      "mimetype": "text/x-python",
      "name": "python",
      "nbconvert_exporter": "python",
      "pygments_lexer": "ipython3",
      "version": "3.13.7"
    }
  },
  "nbformat": 4,
  "nbformat_minor": 0
}