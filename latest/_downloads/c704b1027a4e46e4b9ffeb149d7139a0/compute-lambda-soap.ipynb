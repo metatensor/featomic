{
  "cells": [
    {
      "cell_type": "markdown",
      "metadata": {},
      "source": [
        "\n\n# Computing  \u03bb-SOAP features\n\n.. start-body\n"
      ]
    },
    {
      "cell_type": "code",
      "execution_count": null,
      "metadata": {
        "collapsed": false
      },
      "outputs": [],
      "source": [
        "import chemfiles\nimport numpy as np\nfrom metatensor import Labels\n\nfrom featomic import LodeSphericalExpansion, SphericalExpansion\nfrom featomic.clebsch_gordan import EquivariantPowerSpectrum"
      ]
    },
    {
      "cell_type": "markdown",
      "metadata": {},
      "source": [
        "Let's see how to compute the $\\lambda$-SOAP descriptor using featomic.\n\nFirst we can read the input systems using chemfiles. You can download the dataset for\nthis example from our :download:`website <../../static/dataset.xyz>`.\n\n"
      ]
    },
    {
      "cell_type": "code",
      "execution_count": null,
      "metadata": {
        "collapsed": false
      },
      "outputs": [],
      "source": [
        "with chemfiles.Trajectory(\"dataset.xyz\") as trajectory:\n    systems = [s for s in trajectory]"
      ]
    },
    {
      "cell_type": "markdown",
      "metadata": {},
      "source": [
        "Featomic also handles systems read by [ASE](https://wiki.fysik.dtu.dk/ase/):\n\n``systems = ase.io.read(\"dataset.xyz\", \":\")``.\n\nNext, define the hyperparameters for the spherical expansion:\n\n"
      ]
    },
    {
      "cell_type": "code",
      "execution_count": null,
      "metadata": {
        "collapsed": false
      },
      "outputs": [],
      "source": [
        "HYPERPARAMETERS = {\n    \"cutoff\": {\n        \"radius\": 5.0,\n        \"smoothing\": {\"type\": \"ShiftedCosine\", \"width\": 0.5},\n    },\n    \"density\": {\n        \"type\": \"Gaussian\",\n        \"width\": 0.3,\n    },\n    \"basis\": {\n        \"type\": \"TensorProduct\",\n        \"max_angular\": 2,\n        \"radial\": {\"type\": \"Gto\", \"max_radial\": 2},\n    },\n}"
      ]
    },
    {
      "cell_type": "markdown",
      "metadata": {},
      "source": [
        "Create the spherical expansion calculator. The :class:`~featomic.SphericalExpansion`\nclass uses the hyperparameters above. Then, wrap it with\n:class:`~featomic.clebsch_gordan.EquivariantPowerSpectrum` to compute the\nClebsch-Gordan contraction for $\\lambda$-SOAP.\n\n"
      ]
    },
    {
      "cell_type": "code",
      "execution_count": null,
      "metadata": {
        "collapsed": false
      },
      "outputs": [],
      "source": [
        "spex_calculator = SphericalExpansion(**HYPERPARAMETERS)\ncalculator = EquivariantPowerSpectrum(spex_calculator)"
      ]
    },
    {
      "cell_type": "markdown",
      "metadata": {},
      "source": [
        "Run the actual calculation\n\n"
      ]
    },
    {
      "cell_type": "code",
      "execution_count": null,
      "metadata": {
        "collapsed": false
      },
      "outputs": [],
      "source": [
        "power_spectrum = calculator.compute(systems, neighbors_to_properties=True)"
      ]
    },
    {
      "cell_type": "markdown",
      "metadata": {},
      "source": [
        "The result is a :class:`~metatensor.TensorMap` whose keys encode symmetry:\n\n"
      ]
    },
    {
      "cell_type": "code",
      "execution_count": null,
      "metadata": {
        "collapsed": false
      },
      "outputs": [],
      "source": [
        "power_spectrum.keys"
      ]
    },
    {
      "cell_type": "markdown",
      "metadata": {},
      "source": [
        "Often, you only need specific $\\lambda$ values. For example, if the\n[target property is the polarizability tensor](https://atomistic-cookbook.org/examples/polarizability/polarizability.html),\n(a rank-2 symmetric Cartesian tensor), you can restrict the output to\n$\\lambda=0$ and $\\lambda=2$ (with $\\sigma=1$ to discard\n[pseudotensors](https://en.wikipedia.org/wiki/Pseudotensor)) using the\n``selected_keys`` parameter:\n\n"
      ]
    },
    {
      "cell_type": "code",
      "execution_count": null,
      "metadata": {
        "collapsed": false
      },
      "outputs": [],
      "source": [
        "power_spectrum_0_2 = calculator.compute(\n    systems,\n    neighbors_to_properties=True,\n    selected_keys=Labels([\"o3_lambda\", \"o3_sigma\"], np.array([[0, 1], [2, 1]])),\n)\npower_spectrum_0_2.keys"
      ]
    },
    {
      "cell_type": "markdown",
      "metadata": {},
      "source": [
        "You can also compute a $\\lambda$-SOAP-like descriptor using two different\nexpansions. For instance, combine a standarad spherical expansion with a long-range\n:class:`~featomic.LodeSphericalExpansion`:\n\n"
      ]
    },
    {
      "cell_type": "code",
      "execution_count": null,
      "metadata": {
        "collapsed": false
      },
      "outputs": [],
      "source": [
        "LODE_HYPERPARAMETERS = {\n    \"density\": {\n        \"type\": \"SmearedPowerLaw\",\n        \"smearing\": 0.3,\n        \"exponent\": 1,\n    },\n    \"basis\": {\n        \"type\": \"TensorProduct\",\n        \"max_angular\": 2,\n        \"radial\": {\"type\": \"Gto\", \"max_radial\": 3, \"radius\": 1.0},\n    },\n}\nlode_calculator = LodeSphericalExpansion(**LODE_HYPERPARAMETERS)\ncalculator = EquivariantPowerSpectrum(spex_calculator, lode_calculator)\npower_spectrum = calculator.compute(systems, neighbors_to_properties=True)\npower_spectrum.keys"
      ]
    },
    {
      "cell_type": "markdown",
      "metadata": {},
      "source": [
        ".. end-body\n\n"
      ]
    }
  ],
  "metadata": {
    "kernelspec": {
      "display_name": "Python 3",
      "language": "python",
      "name": "python3"
    },
    "language_info": {
      "codemirror_mode": {
        "name": "ipython",
        "version": 3
      },
      "file_extension": ".py",
      "mimetype": "text/x-python",
      "name": "python",
      "nbconvert_exporter": "python",
      "pygments_lexer": "ipython3",
      "version": "3.13.7"
    }
  },
  "nbformat": 4,
  "nbformat_minor": 0
}